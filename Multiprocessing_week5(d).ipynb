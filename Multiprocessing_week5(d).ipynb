{
 "cells": [
  {
   "cell_type": "markdown",
   "id": "13bbc3a5",
   "metadata": {
    "id": "13bbc3a5"
   },
   "source": [
    "Q1. What is multiprocessing in python? Why is it useful?"
   ]
  },
  {
   "cell_type": "markdown",
   "id": "fa4f1978",
   "metadata": {
    "id": "fa4f1978"
   },
   "source": [
    "Multiprocessing refers to the ability of a system to support more than one processor at the same time. Applications in a multiprocessing system are broken to smaller routines that run independently. The operating system allocates these threads to the processors improving performance of the system.\n",
    "\n",
    "\n",
    "The main usefulness of multiprocessing are increased throughput and reduced latency, as multiple processes can be executed at the same time without interfering with each other."
   ]
  },
  {
   "cell_type": "code",
   "execution_count": null,
   "id": "7975662e",
   "metadata": {
    "id": "7975662e"
   },
   "outputs": [],
   "source": []
  },
  {
   "cell_type": "markdown",
   "id": "70376de2",
   "metadata": {
    "id": "70376de2"
   },
   "source": [
    "Q2. What are the differences between multiprocessing and multithreading?"
   ]
  },
  {
   "cell_type": "markdown",
   "id": "62499e22",
   "metadata": {
    "id": "62499e22"
   },
   "source": [
    "#### Multiprocessing uses two or more CPUs to increase computing power, whereas multithreading uses a single process with multiple code segments to increase computing power.\n",
    "\n",
    "#### Multithreading focuses on generating computing threads from a single process, whereas multiprocessing increases computing power by adding CPUs.\n",
    "\n",
    "#### Multiprocessing is used to create a more reliable system, whereas multithreading is used to create threads that run parallel to each other.\n",
    "\n",
    "#### multithreading is quick to create and requires few resources, whereas multiprocessing requires a significant amount of time and specific resources to create.\n",
    "\n",
    "####  Multiprocessing executes many processes simultaneously, whereas multithreading executes many threads simultaneously.\n",
    "\n",
    "#### Multithreading uses a common address space for all the threads, whereas multiprocessing creates a separate address space for each process."
   ]
  },
  {
   "cell_type": "code",
   "execution_count": null,
   "id": "5238f750",
   "metadata": {
    "id": "5238f750"
   },
   "outputs": [],
   "source": []
  },
  {
   "cell_type": "markdown",
   "id": "b512ed96",
   "metadata": {
    "id": "b512ed96"
   },
   "source": [
    "Q3. Write a python code to create a process using the multiprocessing module."
   ]
  },
  {
   "cell_type": "code",
   "execution_count": 1,
   "id": "154d9da8",
   "metadata": {
    "id": "154d9da8"
   },
   "outputs": [],
   "source": [
    "# importing the multiprocessing module\n",
    "import multiprocessing\n"
   ]
  },
  {
   "cell_type": "code",
   "execution_count": 40,
   "id": "20e59447-035f-4fc3-bf9a-02891edabd87",
   "metadata": {},
   "outputs": [
    {
     "name": "stdout",
     "output_type": "stream",
     "text": [
      "this is my main program\n",
      "Assignment on multiprocessing\n"
     ]
    }
   ],
   "source": [
    "def test():\n",
    "    print(\"Assignment on multiprocessing\")\n",
    "\n",
    "if __name__ == \"__main__\":\n",
    "    m = multiprocessing.Process(target=test)\n",
    "    print(\"this is my main program\")\n",
    "    m.start()\n",
    "    m.join()\n",
    "    \n",
    "    "
   ]
  },
  {
   "cell_type": "code",
   "execution_count": null,
   "id": "6-KM4LPNeNnT",
   "metadata": {
    "id": "6-KM4LPNeNnT"
   },
   "outputs": [],
   "source": []
  },
  {
   "cell_type": "markdown",
   "id": "28UWA_-XerWW",
   "metadata": {
    "id": "28UWA_-XerWW"
   },
   "source": [
    "Q4. What is a multiprocessing pool in python? Why is it used?"
   ]
  },
  {
   "cell_type": "markdown",
   "id": "C5PtAjZgeXnt",
   "metadata": {
    "id": "C5PtAjZgeXnt"
   },
   "source": [
    "The Pool class in multiprocessing can handle an enormous number of processes. It allows you to run multiple jobs per process (due to its ability to queue the jobs). The memory is allocated only to the executing processes, unlike the Process class, which allocates memory to all the processes."
   ]
  },
  {
   "cell_type": "code",
   "execution_count": null,
   "id": "fc23a3a7-e4c4-48b9-a5da-b68274ad12d7",
   "metadata": {},
   "outputs": [],
   "source": []
  },
  {
   "cell_type": "markdown",
   "id": "e134efb5-8bce-49bb-9911-7048e29fcb40",
   "metadata": {},
   "source": [
    "Q5. How can we create a pool of worker processes in python using the multiprocessing module?"
   ]
  },
  {
   "cell_type": "code",
   "execution_count": 29,
   "id": "298f938c-7df4-412e-8a1e-7c143afab458",
   "metadata": {},
   "outputs": [
    {
     "name": "stdout",
     "output_type": "stream",
     "text": [
      "Worker process id for 1: 2911 \n",
      "Worker process id for 4: 2914 \n",
      "Worker process id for 5: 2915 \n",
      "Worker process id for 3: 2913 \n",
      "Worker process id for 2: 2912 \n",
      "[1, 4, 9, 16, 25, 36, 49]\n",
      "Worker process id for 7: 2917 \n",
      "Worker process id for 6: 2916 \n",
      "\n",
      "\n",
      "\n",
      "\n",
      "\n",
      "\n",
      "\n"
     ]
    }
   ],
   "source": [
    "# Python program to understand\n",
    "# the concept of pool\n",
    "import multiprocessing\n",
    "import os\n",
    "\n",
    "def square(n):\n",
    "    \n",
    "\tprint(\"Worker process id for {0}: {1} \\n\".format(n, os.getpid()))\n",
    "    \n",
    "    \n",
    "\treturn (n*n)\n",
    "    \n",
    "\n",
    "if __name__ == \"__main__\":\n",
    "\t# input list\n",
    "\tmylist = [1,2,3,4,5,6,7]\n",
    "\n",
    "\t# creating a pool object\n",
    "\tp = multiprocessing.Pool(processes = 7)\n",
    "\n",
    "\t# map list to target function\n",
    "\tresult = p.map(square, mylist)\n",
    "\n",
    "\tprint(result)\n"
   ]
  },
  {
   "cell_type": "markdown",
   "id": "c07cd753-d764-4edc-9b51-88ba03f633f1",
   "metadata": {},
   "source": [
    "Q6. Write a python program to create 4 processes, each process should print a different number using the\n",
    "multiprocessing module in python."
   ]
  },
  {
   "cell_type": "code",
   "execution_count": 38,
   "id": "5f20d66c-3fae-48d5-97c1-6a9a22ae2e77",
   "metadata": {},
   "outputs": [
    {
     "name": "stdout",
     "output_type": "stream",
     "text": [
      "Square: 100\n",
      "Cube: 1000\n",
      "addition of 10 and 5 is 15\n",
      "subtraction of 4 from 10 is 6\n",
      "Done!\n"
     ]
    }
   ],
   "source": [
    "def print_cube(num):\n",
    "    \n",
    "    print(\"Cube: {}\".format(num * num * num))\n",
    "\n",
    "def print_square(num):\n",
    "    \n",
    "    print(\"Square: {}\".format(num * num))\n",
    "    \n",
    "def addition(num,int_):\n",
    "    result = num + int_\n",
    "    print(f'addition of {num} and {int_} is {result}'.format(num, int_, result) )\n",
    "    \n",
    "def subtraction(num,int_):\n",
    "    result = num - int_\n",
    "    print(f'subtraction of {int_} from {num} is {result}'.format(num, int_, result) )\n",
    "\n",
    "if __name__ == \"__main__\":\n",
    "    \n",
    "    # creating processes\n",
    "    p1 = multiprocessing.Process(target=print_square, args=(10, ))\n",
    "    p2 = multiprocessing.Process(target=print_cube, args=(10, ))\n",
    "    p3= multiprocessing.Process(target = addition, args = (10, 5, ))\n",
    "    p4 = multiprocessing.Process(target = subtraction, args = (10,4, ))\n",
    "\n",
    "    p1.start()\n",
    "\n",
    "    p2.start()\n",
    "    \n",
    "    p3.start()\n",
    "    \n",
    "    p4.start()\n",
    "    \n",
    "    p1.join()\n",
    "\n",
    "    p2.join()\n",
    "    \n",
    "    p3.join()\n",
    "    \n",
    "    p4.join()\n",
    "    \n",
    "    print(\"Done!\")\n"
   ]
  }
 ],
 "metadata": {
  "colab": {
   "provenance": []
  },
  "kernelspec": {
   "display_name": "Python 3 (ipykernel)",
   "language": "python",
   "name": "python3"
  },
  "language_info": {
   "codemirror_mode": {
    "name": "ipython",
    "version": 3
   },
   "file_extension": ".py",
   "mimetype": "text/x-python",
   "name": "python",
   "nbconvert_exporter": "python",
   "pygments_lexer": "ipython3",
   "version": "3.10.8"
  }
 },
 "nbformat": 4,
 "nbformat_minor": 5
}

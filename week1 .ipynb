{
 "cells": [
  {
   "cell_type": "markdown",
   "id": "05617cf4",
   "metadata": {},
   "source": [
    "Q1. Create one variable containing following type of data:\n",
    "(i) string\n",
    "(ii) list\n",
    "(iii) float\n",
    "(iv) tuple"
   ]
  },
  {
   "cell_type": "code",
   "execution_count": 11,
   "id": "34cc24f9",
   "metadata": {},
   "outputs": [],
   "source": [
    "#string\n",
    "string_sample = \"Saola olaoluwa\"\n",
    "#list\n",
    "list_sample = [1,2,3,4, \"pheranmiey\", \"Enya\"]\n",
    "#float\n",
    "float_sample = 123.4444\n",
    "#tuple\n",
    "tuple_sample = (1,2,3)"
   ]
  },
  {
   "cell_type": "code",
   "execution_count": null,
   "id": "f45fca30",
   "metadata": {},
   "outputs": [],
   "source": []
  },
  {
   "cell_type": "markdown",
   "id": "8c86a661",
   "metadata": {},
   "source": [
    "Q2. Given are some following variables containing data:\n",
    "(i) var1 = ‘ ‘\n",
    "(ii) var2 = ‘[ DS , ML , Python]’\n",
    "(iii) var3 = [ ‘DS’ , ’ML’ , ‘Python’ ]\n",
    "(iv) var4 = 1."
   ]
  },
  {
   "cell_type": "markdown",
   "id": "e3c82d18",
   "metadata": {},
   "source": [
    " Ans:\n",
    " var1 = string,\n",
    " var2 = string,\n",
    " var3 = list,\n",
    " var4 = float"
   ]
  },
  {
   "cell_type": "code",
   "execution_count": null,
   "id": "dbbfd41e",
   "metadata": {},
   "outputs": [],
   "source": []
  },
  {
   "cell_type": "markdown",
   "id": "8812fc63",
   "metadata": {},
   "source": [
    "Q3. Explain the use of the following operators using an example:\n",
    "(i) /\n",
    "(ii) %\n",
    "(iii) //\n",
    "(iv) **"
   ]
  },
  {
   "cell_type": "code",
   "execution_count": 14,
   "id": "569ff87a",
   "metadata": {},
   "outputs": [],
   "source": [
    "div=4/2\n",
    "mod = 1223%234\n",
    "floor_div = 345//32\n",
    "power = 2**3"
   ]
  },
  {
   "cell_type": "code",
   "execution_count": 17,
   "id": "7faa3cd2",
   "metadata": {},
   "outputs": [
    {
     "name": "stdout",
     "output_type": "stream",
     "text": [
      "2.0 53 10 8\n"
     ]
    }
   ],
   "source": [
    "print(div, mod, floor_div, power)\n"
   ]
  },
  {
   "cell_type": "code",
   "execution_count": null,
   "id": "025ca1b7",
   "metadata": {},
   "outputs": [],
   "source": []
  },
  {
   "cell_type": "markdown",
   "id": "633e76f8",
   "metadata": {},
   "source": [
    "Q4. Create a list of length 10 of your choice containing multiple types of data. Using for loop print the\n",
    "element and its data type."
   ]
  },
  {
   "cell_type": "code",
   "execution_count": 21,
   "id": "0c7b401c",
   "metadata": {},
   "outputs": [],
   "source": [
    "my_stack = ['new age', 'enya', 'celtic', 'woman', 23.44, False, 'may', 17, 2023, 4+5j]"
   ]
  },
  {
   "cell_type": "code",
   "execution_count": 22,
   "id": "545d8cda",
   "metadata": {},
   "outputs": [
    {
     "name": "stdout",
     "output_type": "stream",
     "text": [
      "new age\n",
      "enya\n",
      "celtic\n",
      "woman\n",
      "23.44\n",
      "False\n",
      "may\n",
      "17\n",
      "2023\n",
      "(4+5j)\n",
      "this is the end of my list\n"
     ]
    }
   ],
   "source": [
    "for val in my_stack:\n",
    "    print(val)\n",
    "print('this is the end of my list')"
   ]
  },
  {
   "cell_type": "code",
   "execution_count": null,
   "id": "6c5bf593",
   "metadata": {},
   "outputs": [],
   "source": []
  },
  {
   "cell_type": "markdown",
   "id": "130ec101",
   "metadata": {},
   "source": [
    "Q5. Using a while loop, verify if the number A is purely divisible by number B and if so then how many\n",
    "times it can be divisible."
   ]
  },
  {
   "cell_type": "code",
   "execution_count": 34,
   "id": "96157139",
   "metadata": {},
   "outputs": [],
   "source": [
    "a= 1888\n",
    "b =4"
   ]
  },
  {
   "cell_type": "code",
   "execution_count": 39,
   "id": "e3a6a505",
   "metadata": {},
   "outputs": [
    {
     "name": "stdout",
     "output_type": "stream",
     "text": [
      "a is purely divisible by b 472 times\n"
     ]
    }
   ],
   "source": [
    "while a%b ==0:\n",
    "    div = int(a/b)\n",
    "    print(f'a is purely divisible by b {div} times')\n",
    "    break\n",
    "else:\n",
    "    print('a is not purely divisible by b')"
   ]
  },
  {
   "cell_type": "markdown",
   "id": "4cee77f3",
   "metadata": {},
   "source": [
    "Q6. Create a list containing 25 int type data. Using for loop and if-else condition print if the element is\n",
    "divisible by 3 or not."
   ]
  },
  {
   "cell_type": "code",
   "execution_count": 22,
   "id": "d69d340a",
   "metadata": {},
   "outputs": [
    {
     "name": "stdout",
     "output_type": "stream",
     "text": [
      "element is not divisible by 3\n"
     ]
    }
   ],
   "source": [
    "num = [25]\n",
    "\n",
    "for n in num:\n",
    "    if n%3==0:\n",
    "        print('element is divisible by 3')\n",
    "        \n",
    "    else:\n",
    "        print('element is not divisible by 3')"
   ]
  },
  {
   "cell_type": "markdown",
   "id": "1afd7161",
   "metadata": {},
   "source": [
    "Q7. What do you understand about mutable and immutable data types? Give examples for both showing\n",
    "this property.\n",
    "\n",
    "\n",
    "You have an immutable object if you can't change the object's state after you've created it. In contrast, a mutable object allows you to modify its internal state after creation"
   ]
  },
  {
   "cell_type": "markdown",
   "id": "013181be",
   "metadata": {},
   "source": [
    "# Mutable"
   ]
  },
  {
   "cell_type": "code",
   "execution_count": 15,
   "id": "5e5c2559",
   "metadata": {},
   "outputs": [
    {
     "data": {
      "text/plain": [
       "[1, 3, 4, 9]"
      ]
     },
     "execution_count": 15,
     "metadata": {},
     "output_type": "execute_result"
    }
   ],
   "source": [
    "\n",
    "list__ = [1,3,4,9]\n",
    "list__\n",
    "\n"
   ]
  },
  {
   "cell_type": "code",
   "execution_count": 16,
   "id": "b3593bda",
   "metadata": {},
   "outputs": [
    {
     "data": {
      "text/plain": [
       "[1, 3, 'giraffe', 9]"
      ]
     },
     "execution_count": 16,
     "metadata": {},
     "output_type": "execute_result"
    }
   ],
   "source": [
    "list__[2] = 'giraffe'\n",
    "list__"
   ]
  },
  {
   "cell_type": "markdown",
   "id": "8b4415c6",
   "metadata": {},
   "source": [
    "# Immutable "
   ]
  },
  {
   "cell_type": "code",
   "execution_count": 17,
   "id": "491c8256",
   "metadata": {},
   "outputs": [
    {
     "data": {
      "text/plain": [
       "'Feranmi'"
      ]
     },
     "execution_count": 17,
     "metadata": {},
     "output_type": "execute_result"
    }
   ],
   "source": [
    "name = 'Feranmi'\n",
    "name"
   ]
  },
  {
   "cell_type": "code",
   "execution_count": 18,
   "id": "073774ea",
   "metadata": {},
   "outputs": [
    {
     "data": {
      "text/plain": [
       "'F'"
      ]
     },
     "execution_count": 18,
     "metadata": {},
     "output_type": "execute_result"
    }
   ],
   "source": [
    "name[0]"
   ]
  },
  {
   "cell_type": "code",
   "execution_count": 19,
   "id": "794fd8e0",
   "metadata": {},
   "outputs": [
    {
     "ename": "TypeError",
     "evalue": "'str' object does not support item assignment",
     "output_type": "error",
     "traceback": [
      "\u001b[1;31m---------------------------------------------------------------------------\u001b[0m",
      "\u001b[1;31mTypeError\u001b[0m                                 Traceback (most recent call last)",
      "\u001b[1;32m~\\AppData\\Local\\Temp\\ipykernel_7828\\3974789382.py\u001b[0m in \u001b[0;36m<module>\u001b[1;34m\u001b[0m\n\u001b[1;32m----> 1\u001b[1;33m \u001b[0mname\u001b[0m\u001b[1;33m[\u001b[0m\u001b[1;36m0\u001b[0m\u001b[1;33m]\u001b[0m \u001b[1;33m=\u001b[0m \u001b[1;34m'y'\u001b[0m\u001b[1;33m\u001b[0m\u001b[1;33m\u001b[0m\u001b[0m\n\u001b[0m",
      "\u001b[1;31mTypeError\u001b[0m: 'str' object does not support item assignment"
     ]
    }
   ],
   "source": [
    "name[0] = 'y'"
   ]
  }
 ],
 "metadata": {
  "kernelspec": {
   "display_name": "Python 3 (ipykernel)",
   "language": "python",
   "name": "python3"
  },
  "language_info": {
   "codemirror_mode": {
    "name": "ipython",
    "version": 3
   },
   "file_extension": ".py",
   "mimetype": "text/x-python",
   "name": "python",
   "nbconvert_exporter": "python",
   "pygments_lexer": "ipython3",
   "version": "3.9.13"
  }
 },
 "nbformat": 4,
 "nbformat_minor": 5
}

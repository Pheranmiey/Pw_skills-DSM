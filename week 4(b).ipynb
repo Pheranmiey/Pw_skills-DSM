{
 "cells": [
  {
   "cell_type": "markdown",
   "id": "ca5fa105",
   "metadata": {},
   "source": [
    "Q1, Create a vehicle class with an init method having instance variables as name_of_vehicle, max_speed\n",
    "and average_of_vehicle."
   ]
  },
  {
   "cell_type": "code",
   "execution_count": 15,
   "id": "ba748d36",
   "metadata": {},
   "outputs": [],
   "source": [
    "class vehicle:\n",
    "    def __init__(self, name_of_vehicle, max_speed, average_of_vehicle):\n",
    "        self.name_of_vehicle = name_of_vehicle\n",
    "        self.max_speed = max_speed\n",
    "        self.average_of_vehicle = average_of_vehicle\n",
    "        \n",
    "    def properties(self):\n",
    "        print ('name:',self.name_of_vehicle, ' max_speed:',self.max_speed,'  average:',self.average_of_vehicle)"
   ]
  },
  {
   "cell_type": "code",
   "execution_count": 16,
   "id": "3ccf284e",
   "metadata": {},
   "outputs": [],
   "source": [
    "vehicle1 = vehicle('Toyota','100km/hr',2000)"
   ]
  },
  {
   "cell_type": "code",
   "execution_count": 17,
   "id": "b5e5d51b",
   "metadata": {},
   "outputs": [
    {
     "name": "stdout",
     "output_type": "stream",
     "text": [
      "name: Toyota  max_speed: 100km/hr   average: 2000\n"
     ]
    }
   ],
   "source": [
    "vehicle1.properties()"
   ]
  },
  {
   "cell_type": "code",
   "execution_count": null,
   "id": "2eda1b8a",
   "metadata": {},
   "outputs": [],
   "source": []
  },
  {
   "cell_type": "markdown",
   "id": "b95a622f",
   "metadata": {},
   "source": [
    "Q2. Create a child class car from the vehicle class created in Que 1, which will inherit the vehicle class.\n",
    "Create a method named seating_capacity which takes capacity as an argument and returns the name of\n",
    "the vehicle and its seating capacity."
   ]
  },
  {
   "cell_type": "code",
   "execution_count": 18,
   "id": "50cfd447",
   "metadata": {},
   "outputs": [],
   "source": [
    "class child(vehicle):\n",
    "    \n",
    "    def seating_capacity(self, capacity):\n",
    "        return self.name_of_vehicle, f'seating_capacity: {capacity}'\n",
    "        "
   ]
  },
  {
   "cell_type": "code",
   "execution_count": 19,
   "id": "1720883c",
   "metadata": {},
   "outputs": [],
   "source": [
    "child1= child('camery','145km/hr', 10000)"
   ]
  },
  {
   "cell_type": "code",
   "execution_count": 20,
   "id": "369c7917",
   "metadata": {},
   "outputs": [
    {
     "data": {
      "text/plain": [
       "('camery', 'seating_capacity: 20000')"
      ]
     },
     "execution_count": 20,
     "metadata": {},
     "output_type": "execute_result"
    }
   ],
   "source": [
    "child1.seating_capacity(20000)"
   ]
  },
  {
   "cell_type": "code",
   "execution_count": null,
   "id": "90692531",
   "metadata": {},
   "outputs": [],
   "source": []
  },
  {
   "cell_type": "markdown",
   "id": "d84ae5c7",
   "metadata": {},
   "source": [
    "Q3. What is multiple inheritance? Write a python code to demonstrate multiple inheritance.\n",
    "\n",
    "Python multiple inheritance allows one class to inherit from multiple classes. In multiple inheritance, the child class or object inherits the methods and attributes from one or more parent classes\n"
   ]
  },
  {
   "cell_type": "code",
   "execution_count": 21,
   "id": "84bf8bc8",
   "metadata": {},
   "outputs": [],
   "source": [
    "# Multiple inheritance\n",
    "class class1 :\n",
    "    def course1(self):\n",
    "        return 'first course is SQL'\n",
    "    "
   ]
  },
  {
   "cell_type": "code",
   "execution_count": 22,
   "id": "a365b065",
   "metadata": {},
   "outputs": [],
   "source": [
    "class class2:\n",
    "    def course2(self):\n",
    "        return 'second course is JAVA'"
   ]
  },
  {
   "cell_type": "code",
   "execution_count": 23,
   "id": "9fda00dc",
   "metadata": {},
   "outputs": [],
   "source": [
    "class class3(class1, class2):\n",
    "    pass"
   ]
  },
  {
   "cell_type": "code",
   "execution_count": 24,
   "id": "c12ae696",
   "metadata": {},
   "outputs": [],
   "source": [
    "courses = class3()"
   ]
  },
  {
   "cell_type": "code",
   "execution_count": 25,
   "id": "43b1a236",
   "metadata": {},
   "outputs": [
    {
     "data": {
      "text/plain": [
       "'first course is SQL'"
      ]
     },
     "execution_count": 25,
     "metadata": {},
     "output_type": "execute_result"
    }
   ],
   "source": [
    "courses.course1()"
   ]
  },
  {
   "cell_type": "code",
   "execution_count": 26,
   "id": "2476e3d4",
   "metadata": {},
   "outputs": [
    {
     "data": {
      "text/plain": [
       "'second course is JAVA'"
      ]
     },
     "execution_count": 26,
     "metadata": {},
     "output_type": "execute_result"
    }
   ],
   "source": [
    "courses.course2()"
   ]
  },
  {
   "cell_type": "code",
   "execution_count": null,
   "id": "ae029a5e",
   "metadata": {},
   "outputs": [],
   "source": []
  },
  {
   "cell_type": "markdown",
   "id": "e0153c75",
   "metadata": {},
   "source": [
    "Q4. What are getter and setter in python? Create a class and create a getter and a setter method in this\n",
    "class.\n",
    "\n",
    "Getter: A method that allows you to access an attribute in a given class. Setter: A method that allows you to set or mutate the value of an attribute in a class."
   ]
  },
  {
   "cell_type": "code",
   "execution_count": 27,
   "id": "e8a36c43",
   "metadata": {},
   "outputs": [],
   "source": [
    "class account:\n",
    "    \n",
    "    def __init__(self, total_balance , bank_name):\n",
    "        self.__total_balance = total_balance\n",
    "        self.bank_name = bank_name\n",
    "        \n",
    "    @property\n",
    "    def total_balance_access(self):\n",
    "        return self.__total_balance\n",
    "    \n",
    "    @total_balance_access.setter\n",
    "    def deposit(self , amount):\n",
    "        self.__total_balance = amount + self.__total_balance\n",
    "            \n",
    "    \n",
    "        \n",
    "    \n",
    "    "
   ]
  },
  {
   "cell_type": "code",
   "execution_count": 28,
   "id": "db6e8be1",
   "metadata": {},
   "outputs": [],
   "source": [
    "account1 = account(550000, 'Gt bank')"
   ]
  },
  {
   "cell_type": "code",
   "execution_count": 29,
   "id": "1e1ba3e8",
   "metadata": {},
   "outputs": [
    {
     "data": {
      "text/plain": [
       "550000"
      ]
     },
     "execution_count": 29,
     "metadata": {},
     "output_type": "execute_result"
    }
   ],
   "source": [
    "account1.total_balance_access"
   ]
  },
  {
   "cell_type": "code",
   "execution_count": 30,
   "id": "08ad9f31",
   "metadata": {},
   "outputs": [],
   "source": [
    "account1.deposit = 1000000"
   ]
  },
  {
   "cell_type": "code",
   "execution_count": 31,
   "id": "86d41090",
   "metadata": {},
   "outputs": [
    {
     "data": {
      "text/plain": [
       "1550000"
      ]
     },
     "execution_count": 31,
     "metadata": {},
     "output_type": "execute_result"
    }
   ],
   "source": [
    "account1.total_balance_access"
   ]
  },
  {
   "cell_type": "code",
   "execution_count": null,
   "id": "f128ab56",
   "metadata": {},
   "outputs": [],
   "source": []
  },
  {
   "cell_type": "markdown",
   "id": "6de5d4a1",
   "metadata": {},
   "source": [
    "Q5.What is method overriding in python? Write a python code to demonstrate method overriding\n",
    "\n",
    "Method overriding occurs when a subclass or child class can provide the program with specific characteristics or a specific implementation process of data provided that are already defined in the parent class or superclass\n"
   ]
  },
  {
   "cell_type": "code",
   "execution_count": 32,
   "id": "809da726",
   "metadata": {},
   "outputs": [
    {
     "name": "stdout",
     "output_type": "stream",
     "text": [
      "70000\n",
      "75000\n"
     ]
    }
   ],
   "source": [
    "class costs:\n",
    "    def __init__(self, car_cost, house_cost, book_cost):\n",
    "        self.car_cost = car_cost\n",
    "        self.house_cost = house_cost\n",
    "        self.book_cost = book_cost\n",
    "    \n",
    "    def total_cost(self):\n",
    "        return self.car_cost + self.house_cost\n",
    "\n",
    "    \n",
    "    \n",
    "class child_costs(costs):\n",
    "    \n",
    "    def total_cost(self):\n",
    "        return self.car_cost + self.house_cost + self.book_cost\n",
    "    \n",
    "    \n",
    "if __name__ == '__main__':\n",
    "    cost1=costs(50000, 20000,5000)\n",
    "    print (cost1.total_cost())\n",
    "    \n",
    "    child_cost1= child_costs(50000,20000,5000)\n",
    "    print(child_cost1.total_cost())\n",
    "    "
   ]
  },
  {
   "cell_type": "markdown",
   "id": "72348edd",
   "metadata": {},
   "source": [
    "In the example above, the total_cost() of the parent class was overridden by the total_cost() of the child class"
   ]
  }
 ],
 "metadata": {
  "kernelspec": {
   "display_name": "Python 3 (ipykernel)",
   "language": "python",
   "name": "python3"
  },
  "language_info": {
   "codemirror_mode": {
    "name": "ipython",
    "version": 3
   },
   "file_extension": ".py",
   "mimetype": "text/x-python",
   "name": "python",
   "nbconvert_exporter": "python",
   "pygments_lexer": "ipython3",
   "version": "3.9.13"
  }
 },
 "nbformat": 4,
 "nbformat_minor": 5
}

{
 "cells": [
  {
   "cell_type": "markdown",
   "id": "92d18487",
   "metadata": {},
   "source": [
    "Q1. How do you comment code in Python? What are the different types of comments?\n",
    "we have \n",
    "1. single line comment\n",
    "2. multiple line comment"
   ]
  },
  {
   "cell_type": "code",
   "execution_count": 57,
   "id": "8ee34391",
   "metadata": {},
   "outputs": [],
   "source": [
    "#this is a single line comment"
   ]
  },
  {
   "cell_type": "code",
   "execution_count": 58,
   "id": "7f645dad",
   "metadata": {},
   "outputs": [],
   "source": [
    "a = ''' This is a\n",
    "an example of\n",
    "multi-line comments '''"
   ]
  },
  {
   "cell_type": "markdown",
   "id": "4b92570f",
   "metadata": {},
   "source": [
    "Q2. What are variables in Python? How do you declare and assign values to variables?\n",
    "\n",
    "Python variables are simply containers for storing data values\n",
    "A variable is created the moment you first assign a value to it, there is no need to declare a variable in python"
   ]
  },
  {
   "cell_type": "code",
   "execution_count": 59,
   "id": "b0b60177",
   "metadata": {},
   "outputs": [
    {
     "data": {
      "text/plain": [
       "str"
      ]
     },
     "execution_count": 59,
     "metadata": {},
     "output_type": "execute_result"
    }
   ],
   "source": [
    "#examples\n",
    "string_ = 'olaoluwa'\n",
    "type(string_)"
   ]
  },
  {
   "cell_type": "code",
   "execution_count": 60,
   "id": "a6079e42",
   "metadata": {},
   "outputs": [
    {
     "data": {
      "text/plain": [
       "int"
      ]
     },
     "execution_count": 60,
     "metadata": {},
     "output_type": "execute_result"
    }
   ],
   "source": [
    "int__=123\n",
    "type(int__)"
   ]
  },
  {
   "cell_type": "code",
   "execution_count": 61,
   "id": "69692da7",
   "metadata": {},
   "outputs": [
    {
     "data": {
      "text/plain": [
       "bool"
      ]
     },
     "execution_count": 61,
     "metadata": {},
     "output_type": "execute_result"
    }
   ],
   "source": [
    "bool__= True\n",
    "type(bool__)"
   ]
  },
  {
   "cell_type": "code",
   "execution_count": null,
   "id": "add044b0",
   "metadata": {},
   "outputs": [],
   "source": []
  },
  {
   "cell_type": "markdown",
   "id": "6ac9db1b",
   "metadata": {},
   "source": [
    "Q3. How do you convert one data type to another in Python?\n",
    "You do this by type casting. This is done by using the type name as a function"
   ]
  },
  {
   "cell_type": "code",
   "execution_count": 62,
   "id": "baf92d56",
   "metadata": {},
   "outputs": [
    {
     "data": {
      "text/plain": [
       "str"
      ]
     },
     "execution_count": 62,
     "metadata": {},
     "output_type": "execute_result"
    }
   ],
   "source": [
    "#example\n",
    "string__='1234'\n",
    "type(string__)"
   ]
  },
  {
   "cell_type": "code",
   "execution_count": 63,
   "id": "387ca42a",
   "metadata": {},
   "outputs": [
    {
     "data": {
      "text/plain": [
       "int"
      ]
     },
     "execution_count": 63,
     "metadata": {},
     "output_type": "execute_result"
    }
   ],
   "source": [
    "type(int(string__))\n"
   ]
  },
  {
   "cell_type": "code",
   "execution_count": null,
   "id": "68155357",
   "metadata": {},
   "outputs": [],
   "source": []
  },
  {
   "cell_type": "markdown",
   "id": "3b0c47bf",
   "metadata": {},
   "source": [
    "Q4. How do you write and execute a Python script from the command line?\n",
    "\n",
    "open a command-line and type in the word python , or python3 depending on the version, followed by the path to the python script\n",
    "e.g python hello_world.py\n"
   ]
  },
  {
   "cell_type": "code",
   "execution_count": null,
   "id": "f453f0cc",
   "metadata": {},
   "outputs": [],
   "source": []
  },
  {
   "cell_type": "markdown",
   "id": "5483b9df",
   "metadata": {},
   "source": [
    "Q5. Given a list my_list = [1, 2, 3, 4, 5], write the code to slice the list and obtain the sub-list [2, 3]."
   ]
  },
  {
   "cell_type": "code",
   "execution_count": 64,
   "id": "41d4bad3",
   "metadata": {},
   "outputs": [
    {
     "data": {
      "text/plain": [
       "[2, 3]"
      ]
     },
     "execution_count": 64,
     "metadata": {},
     "output_type": "execute_result"
    }
   ],
   "source": [
    "my_list = [1, 2, 3, 4, 5]\n",
    "my_list[1:3]"
   ]
  },
  {
   "cell_type": "code",
   "execution_count": null,
   "id": "590d29e0",
   "metadata": {},
   "outputs": [],
   "source": []
  },
  {
   "cell_type": "markdown",
   "id": "6ecb6fe3",
   "metadata": {},
   "source": [
    "Q6. What is a complex number in mathematics, and how is it represented in Python?\n",
    "\n",
    "a complex number is an element of a number system that extends the real numbers with a specific element denoted i (j in python), called the imaginary unit and satisfying the equation\n",
    "a + bi, where a and b are real numbers.\n",
    "a is called the real part, and b is called the imaginary part"
   ]
  },
  {
   "cell_type": "code",
   "execution_count": 65,
   "id": "ceeb212b",
   "metadata": {},
   "outputs": [],
   "source": [
    "complex_n = 3 + 4j"
   ]
  },
  {
   "cell_type": "code",
   "execution_count": 66,
   "id": "177251a8",
   "metadata": {},
   "outputs": [
    {
     "data": {
      "text/plain": [
       "complex"
      ]
     },
     "execution_count": 66,
     "metadata": {},
     "output_type": "execute_result"
    }
   ],
   "source": [
    "type(complex_n)"
   ]
  },
  {
   "cell_type": "code",
   "execution_count": null,
   "id": "2054d749",
   "metadata": {},
   "outputs": [],
   "source": []
  },
  {
   "cell_type": "markdown",
   "id": "7c3fe6b4",
   "metadata": {},
   "source": [
    "Q7. What is the correct way to declare a variable named age and assign the value 25 to it?"
   ]
  },
  {
   "cell_type": "code",
   "execution_count": 67,
   "id": "e59c9a9a",
   "metadata": {},
   "outputs": [],
   "source": [
    "age = 25"
   ]
  },
  {
   "cell_type": "markdown",
   "id": "9f37ea2e",
   "metadata": {},
   "source": [
    "Q8. Declare a variable named price and assign the value 9.99 to it. What data type does this variable\n",
    "belong to?\n",
    "\n",
    "type = float"
   ]
  },
  {
   "cell_type": "code",
   "execution_count": 68,
   "id": "6d035062",
   "metadata": {},
   "outputs": [
    {
     "data": {
      "text/plain": [
       "float"
      ]
     },
     "execution_count": 68,
     "metadata": {},
     "output_type": "execute_result"
    }
   ],
   "source": [
    "price = 9.99\n",
    "type(price)"
   ]
  },
  {
   "cell_type": "markdown",
   "id": "06563910",
   "metadata": {},
   "source": [
    "Q9. Create a variable named name and assign your full name to it as a string. How would you print the\n",
    "value of this variable?"
   ]
  },
  {
   "cell_type": "code",
   "execution_count": 69,
   "id": "31332d07",
   "metadata": {},
   "outputs": [
    {
     "name": "stdout",
     "output_type": "stream",
     "text": [
      "Saola Olaoluwa Feranmi\n"
     ]
    }
   ],
   "source": [
    "name ='Saola Olaoluwa Feranmi'\n",
    "print(name)"
   ]
  },
  {
   "cell_type": "markdown",
   "id": "6e8b53c1",
   "metadata": {},
   "source": [
    "Q10. Given the string \"Hello, World!\", extract the substring \"World\"."
   ]
  },
  {
   "cell_type": "code",
   "execution_count": 70,
   "id": "e582d197",
   "metadata": {},
   "outputs": [
    {
     "data": {
      "text/plain": [
       "'World'"
      ]
     },
     "execution_count": 70,
     "metadata": {},
     "output_type": "execute_result"
    }
   ],
   "source": [
    "string__ = \"Hello, World!\"\n",
    "string__[7:12]"
   ]
  },
  {
   "cell_type": "markdown",
   "id": "3b4706e0",
   "metadata": {},
   "source": [
    "Q11. Create a variable named \"is_student\" and assign it a boolean value indicating whether you are\n",
    "currently a student or not."
   ]
  },
  {
   "cell_type": "code",
   "execution_count": 71,
   "id": "1de574b5",
   "metadata": {},
   "outputs": [
    {
     "data": {
      "text/plain": [
       "False"
      ]
     },
     "execution_count": 71,
     "metadata": {},
     "output_type": "execute_result"
    }
   ],
   "source": [
    "is_student=False\n",
    "is_student"
   ]
  }
 ],
 "metadata": {
  "kernelspec": {
   "display_name": "Python 3 (ipykernel)",
   "language": "python",
   "name": "python3"
  },
  "language_info": {
   "codemirror_mode": {
    "name": "ipython",
    "version": 3
   },
   "file_extension": ".py",
   "mimetype": "text/x-python",
   "name": "python",
   "nbconvert_exporter": "python",
   "pygments_lexer": "ipython3",
   "version": "3.9.13"
  }
 },
 "nbformat": 4,
 "nbformat_minor": 5
}

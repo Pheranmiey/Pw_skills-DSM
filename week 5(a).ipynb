{
 "cells": [
  {
   "cell_type": "markdown",
   "id": "c0448988",
   "metadata": {},
   "source": [
    "Q1. What is an Exception in python? Write the difference between Exceptions and syntax errors"
   ]
  },
  {
   "cell_type": "markdown",
   "id": "db5e6299",
   "metadata": {},
   "source": [
    "ANS: An exception is an abnormal event that occurs during the execution of a program. Exceptions are usually caused by runtime errors, such as dividing by zero, trying to access an element in an array with an out-of-bounds index, or trying to access a file that does not exist\n",
    "\n",
    "Syntax errors are usually caused by mistakes in the source code, such as typos, omissions, or incorrect use of syntax.\n",
    "\n",
    "To summarize, a syntax error is a mistake in the structure of the program that prevents it from running, while an exception is an abnormal event that occurs during the execution of the program and can be handled to allow the program to continue running."
   ]
  },
  {
   "cell_type": "code",
   "execution_count": null,
   "id": "b7f502f1",
   "metadata": {},
   "outputs": [],
   "source": []
  },
  {
   "cell_type": "markdown",
   "id": "c037264a",
   "metadata": {},
   "source": [
    "Q2. What happens when an exception is not handled? Explain with an example\n",
    "\n",
    "If an exception is not caught (with a catch block), the runtime system will abort the program (i.e. crash) and an exception message will print to the console. The message typically includes: name of exception type. short description."
   ]
  },
  {
   "cell_type": "code",
   "execution_count": 48,
   "id": "fec787d7",
   "metadata": {},
   "outputs": [],
   "source": [
    "def divide(x,y):\n",
    "    result = x/y\n",
    "    return result"
   ]
  },
  {
   "cell_type": "code",
   "execution_count": 49,
   "id": "7a3f9847",
   "metadata": {},
   "outputs": [
    {
     "data": {
      "text/plain": [
       "0.5714285714285714"
      ]
     },
     "execution_count": 49,
     "metadata": {},
     "output_type": "execute_result"
    }
   ],
   "source": [
    "divide(4,7)"
   ]
  },
  {
   "cell_type": "code",
   "execution_count": 50,
   "id": "cadc8dfc",
   "metadata": {},
   "outputs": [
    {
     "ename": "ZeroDivisionError",
     "evalue": "division by zero",
     "output_type": "error",
     "traceback": [
      "\u001b[1;31m---------------------------------------------------------------------------\u001b[0m",
      "\u001b[1;31mZeroDivisionError\u001b[0m                         Traceback (most recent call last)",
      "\u001b[1;32m~\\AppData\\Local\\Temp\\ipykernel_11532\\2786307941.py\u001b[0m in \u001b[0;36m<module>\u001b[1;34m\u001b[0m\n\u001b[1;32m----> 1\u001b[1;33m \u001b[0mdivide\u001b[0m\u001b[1;33m(\u001b[0m\u001b[1;36m6\u001b[0m\u001b[1;33m,\u001b[0m\u001b[1;36m0\u001b[0m\u001b[1;33m)\u001b[0m\u001b[1;33m\u001b[0m\u001b[1;33m\u001b[0m\u001b[0m\n\u001b[0m",
      "\u001b[1;32m~\\AppData\\Local\\Temp\\ipykernel_11532\\236552263.py\u001b[0m in \u001b[0;36mdivide\u001b[1;34m(x, y)\u001b[0m\n\u001b[0;32m      1\u001b[0m \u001b[1;32mdef\u001b[0m \u001b[0mdivide\u001b[0m\u001b[1;33m(\u001b[0m\u001b[0mx\u001b[0m\u001b[1;33m,\u001b[0m\u001b[0my\u001b[0m\u001b[1;33m)\u001b[0m\u001b[1;33m:\u001b[0m\u001b[1;33m\u001b[0m\u001b[1;33m\u001b[0m\u001b[0m\n\u001b[1;32m----> 2\u001b[1;33m     \u001b[0mresult\u001b[0m \u001b[1;33m=\u001b[0m \u001b[0mx\u001b[0m\u001b[1;33m/\u001b[0m\u001b[0my\u001b[0m\u001b[1;33m\u001b[0m\u001b[1;33m\u001b[0m\u001b[0m\n\u001b[0m\u001b[0;32m      3\u001b[0m     \u001b[1;32mreturn\u001b[0m \u001b[0mresult\u001b[0m\u001b[1;33m\u001b[0m\u001b[1;33m\u001b[0m\u001b[0m\n",
      "\u001b[1;31mZeroDivisionError\u001b[0m: division by zero"
     ]
    }
   ],
   "source": [
    "divide(6,0)"
   ]
  },
  {
   "cell_type": "markdown",
   "id": "6840d49a",
   "metadata": {},
   "source": [
    "in the example above, the ZeroDivisionError was not handled"
   ]
  },
  {
   "cell_type": "code",
   "execution_count": null,
   "id": "941be45f",
   "metadata": {},
   "outputs": [],
   "source": []
  },
  {
   "cell_type": "markdown",
   "id": "b5689bab",
   "metadata": {},
   "source": [
    "Q3. Which Python statements are used to catch and handle exceptions? Explain with an example\n",
    "\n",
    "ANS: The try and except block in Python is used to catch and handle exceptions"
   ]
  },
  {
   "cell_type": "code",
   "execution_count": 51,
   "id": "443d8a6e",
   "metadata": {},
   "outputs": [
    {
     "name": "stdout",
     "output_type": "stream",
     "text": [
      "file not found [Errno 2] No such file or directory: 'data_science.txt'\n"
     ]
    }
   ],
   "source": [
    "try:\n",
    "    f= open('data_science.txt','r')\n",
    "    \n",
    "except Exception as e:\n",
    "    print('file not found', e)"
   ]
  },
  {
   "cell_type": "code",
   "execution_count": null,
   "id": "7fe452d1",
   "metadata": {},
   "outputs": [],
   "source": []
  },
  {
   "cell_type": "markdown",
   "id": "b6f199b2",
   "metadata": {},
   "source": [
    "Q4. Explain with an example\n",
    "\n",
    "try and else\n",
    "\n",
    "finally\n",
    "\n",
    "raise"
   ]
  },
  {
   "cell_type": "code",
   "execution_count": 52,
   "id": "95a59b48",
   "metadata": {},
   "outputs": [
    {
     "name": "stdout",
     "output_type": "stream",
     "text": [
      "enter first value:69\n",
      "enter second value: 8\n",
      "answer:  8.625\n",
      "my code is doing great!\n",
      "have a good day!\n"
     ]
    }
   ],
   "source": [
    "try:\n",
    "    a = int(input('enter first value:'))\n",
    "    b = int(input('enter second value: '))\n",
    "    if a < 0 or b < 0:\n",
    "        raise Exception ('values must be greater than 0')\n",
    "    else:\n",
    "        result = a/b\n",
    "        print ('answer: ', result)\n",
    "\n",
    "except ZeroDivisionError as e:\n",
    "    print('there is an error:',e)\n",
    "\n",
    "else:\n",
    "    print('my code is doing great!')\n",
    "\n",
    "\n",
    "finally:\n",
    "    print('have a good day!')"
   ]
  },
  {
   "cell_type": "code",
   "execution_count": null,
   "id": "b069f3d1",
   "metadata": {},
   "outputs": [],
   "source": []
  },
  {
   "cell_type": "markdown",
   "id": "74cfb24e",
   "metadata": {},
   "source": [
    "Q5. What are Custom Exceptions in python? Why do we need Custom Exceptions? Explain with an example\n",
    "\n",
    "A custom exception is a user-defined exception that is created by the programmer to handle specific error scenarios in a program\n",
    "Python allows you to create your custom exception by subclassing the built-in Exception class or any of its subclasses.\n",
    "\n",
    "We need custom exception to;\n",
    "to handle errors in a way that suits our application’s logic and requirements, providing more precise error management and also enable us to generate detailed error messages, providing valuable information to users or administrators and aiding in bug fixing."
   ]
  },
  {
   "cell_type": "code",
   "execution_count": 53,
   "id": "b37fc34b",
   "metadata": {},
   "outputs": [],
   "source": [
    "class validateage(Exception):\n",
    "    def __init__(self, msg):\n",
    "        self.msg = msg\n",
    "        \n",
    "def validate_age(age):\n",
    "    if age < 0:\n",
    "        raise validateage('age should not be lesser than 0')\n",
    "        \n",
    "    elif age > 200:\n",
    "        raise validateage('age is too high')\n",
    "        \n",
    "    else:\n",
    "        print('age is valid')\n",
    "    "
   ]
  },
  {
   "cell_type": "code",
   "execution_count": 54,
   "id": "42a4a46b",
   "metadata": {},
   "outputs": [
    {
     "name": "stdout",
     "output_type": "stream",
     "text": [
      "enter your age900\n",
      "age is too high\n"
     ]
    }
   ],
   "source": [
    "try:\n",
    "    age = int(input('enter your age')) \n",
    "    validate_age(age)\n",
    "    \n",
    "except validateage as e:\n",
    "    print(e)"
   ]
  },
  {
   "cell_type": "code",
   "execution_count": null,
   "id": "db5bfbc8",
   "metadata": {},
   "outputs": [],
   "source": []
  },
  {
   "cell_type": "markdown",
   "id": "19638d2c",
   "metadata": {},
   "source": [
    "Q6. Create a custom exception class. Use this class to handle an exception."
   ]
  },
  {
   "cell_type": "code",
   "execution_count": 55,
   "id": "6777f0cb",
   "metadata": {},
   "outputs": [],
   "source": [
    "class validate(Exception):\n",
    "    def __init__(self, msg):\n",
    "        self.msg = msg\n",
    "        \n",
    "        \n",
    "def validate_weight(weight):\n",
    "    if weight < 0:\n",
    "        raise validate ('weight should not be lesser than 0')\n",
    "        \n",
    "    elif weight > 1000:\n",
    "        raise validate ('weight should not be greater than 1000 ')\n",
    "        \n",
    "    else:\n",
    "        print('weight is valid')"
   ]
  },
  {
   "cell_type": "code",
   "execution_count": 56,
   "id": "f3e2d9b5",
   "metadata": {},
   "outputs": [
    {
     "name": "stdout",
     "output_type": "stream",
     "text": [
      "Enter your weight: -89\n",
      "weight should not be lesser than 0\n"
     ]
    }
   ],
   "source": [
    "try:\n",
    "    weight = int(input('Enter your weight: '))\n",
    "    validate_weight(weight)\n",
    "    \n",
    "except validate as e:\n",
    "    print(e)"
   ]
  }
 ],
 "metadata": {
  "kernelspec": {
   "display_name": "Python 3 (ipykernel)",
   "language": "python",
   "name": "python3"
  },
  "language_info": {
   "codemirror_mode": {
    "name": "ipython",
    "version": 3
   },
   "file_extension": ".py",
   "mimetype": "text/x-python",
   "name": "python",
   "nbconvert_exporter": "python",
   "pygments_lexer": "ipython3",
   "version": "3.9.13"
  }
 },
 "nbformat": 4,
 "nbformat_minor": 5
}

{
 "cells": [
  {
   "cell_type": "markdown",
   "id": "0a9cc2ab",
   "metadata": {},
   "source": [
    "Q1. What is multithreading in python? why is it used? Name the module used to handle threads in python"
   ]
  },
  {
   "cell_type": "markdown",
   "id": "dd1feded",
   "metadata": {},
   "source": [
    "Multithreading is defined as the ability of a processor to execute multiple threads concurrently. In a simple, single-core CPU, it is achieved using frequent switching between threads\n",
    "\n",
    "Multithreading saves time as you can perform multiple operations together. The threads are independent, so it does not block the user to perform multiple operations at the same time and also, if an exception occurs in a single thread, it does not affect other threads.\n",
    "\n",
    "The threading module is used to handle threads in python\n"
   ]
  },
  {
   "cell_type": "code",
   "execution_count": null,
   "id": "0eafdda1",
   "metadata": {},
   "outputs": [],
   "source": []
  },
  {
   "cell_type": "markdown",
   "id": "07a28b65",
   "metadata": {},
   "source": [
    "Q2. Why threading module used? Write the use of the following functions\n",
    "1 activeCount()\n",
    "2 currentThread()\n",
    "3 enumerate()"
   ]
  },
  {
   "cell_type": "markdown",
   "id": "46a417aa",
   "metadata": {},
   "source": [
    "Python threading allows you to have different parts of your program run concurrently and can simplify your design\n",
    "\n",
    "threading.activeCount() − Returns the number of thread objects that are active. \n",
    "\n",
    "threading.currentThread() − Returns the number of thread objects in the caller's thread control. \n",
    "\n",
    "threading.enumerate() − Returns a list of all thread objects that are currently active."
   ]
  },
  {
   "cell_type": "code",
   "execution_count": null,
   "id": "f104536e",
   "metadata": {},
   "outputs": [],
   "source": []
  },
  {
   "cell_type": "markdown",
   "id": "3a1a1cc0",
   "metadata": {},
   "source": [
    "Q3. Explain the following functions\n",
    "1. run()\n",
    "2. start()\n",
    "3. join()\n",
    "4. isAlive()"
   ]
  },
  {
   "cell_type": "markdown",
   "id": "cee13c0d",
   "metadata": {},
   "source": [
    "run() :\n",
    "This method represents the thread’s activity. It may be overriden in a subclass. Instead of standard run() method, the object invokes the function passed to the it's constructor as the target argurment \n",
    "\n",
    "start() :\n",
    "This method starts the thread’s activity. It must be called once a thread object is created. It automatically invokes object’s run() method  in a separate thread. If called more than once, a RuntimeError will be raised.\n",
    "\n",
    "\n",
    "join() :\n",
    "This method blocks the calling thread until the thread whose join() method is called terminates. The termination may be either normal, because of an unhandled exception – or until the optional timeout occurs. It can be called many times. The join() raises a RuntimeError if an attempt is made to join the current thread. Attempt to join() a thread before it has been started also raises the same exception.\n",
    "\n",
    "\n",
    "is_alive() :\n",
    "This method returns whether the thread is alive. It returns True just before calling run() method and until just after the run() method terminates.\n"
   ]
  },
  {
   "cell_type": "code",
   "execution_count": null,
   "id": "3c139d79",
   "metadata": {},
   "outputs": [],
   "source": []
  },
  {
   "cell_type": "markdown",
   "id": "fa0a6530",
   "metadata": {},
   "source": [
    "Q4. write a python program to create two threads. Thread one must print the list of squares and thread\n",
    "two must print the list of cubes"
   ]
  },
  {
   "cell_type": "code",
   "execution_count": 8,
   "id": "c6f36abf",
   "metadata": {},
   "outputs": [
    {
     "name": "stdout",
     "output_type": "stream",
     "text": [
      "Square lists: [1, 4, 9, 16]\n",
      "cube lists [1, 8, 27, 64]\n",
      "Done!\n"
     ]
    }
   ],
   "source": [
    "import threading\n",
    "\n",
    "\n",
    "def print_cube(num):\n",
    "    cube_list = list(map(lambda x:x*x*x, num))\n",
    "    print('cube lists {}'.format(cube_list))\n",
    "\n",
    "\n",
    "def print_square(num):\n",
    "    square_list = list(map(lambda x:x**2,num))\n",
    "    print('Square lists: {}'.format(square_list))\n",
    "\n",
    "\n",
    "if __name__ ==\"__main__\":\n",
    "    # creating thread\n",
    "    t1 = threading.Thread(target=print_square, args=([1,2,3,4],))\n",
    "    t2 = threading.Thread(target=print_cube, args=([1,2,3,4],))\n",
    "    t1.start()\n",
    "    t2.start()\n",
    "\n",
    "    t1.join()\n",
    "    # wait until thread 2 is completely executed\n",
    "    t2.join()\n",
    "\n",
    "    # both threads completely executed\n",
    "    print(\"Done!\")\n"
   ]
  },
  {
   "cell_type": "code",
   "execution_count": null,
   "id": "38cad062",
   "metadata": {},
   "outputs": [],
   "source": []
  },
  {
   "cell_type": "markdown",
   "id": "e2c8f7b1",
   "metadata": {},
   "source": [
    "5. State advantages and disadvantages of multithreading\n",
    "\n",
    "#### Advantages of Multithreading \n",
    "\n",
    "Python multithreading enables efficient utilization of the resources as the threads share the data space and memory.\n",
    "\n",
    "Multithreading in Python allows the concurrent and parallel occurrence of various tasks.\n",
    "\n",
    "It causes a reduction in time consumption or response time, thereby increasing the performance.\n",
    "\n",
    "#### Disadvantages of Multi-threading\n",
    "\n",
    "Increases the complexity of the program.\n",
    "\n",
    "Synchronization of shared resources (objects, data) is necessary.\n",
    "\n",
    "Difficult to debug unpredictable results\n",
    "\n",
    "Constructing and synchronizing threads is CPU/memory intensive."
   ]
  },
  {
   "cell_type": "code",
   "execution_count": null,
   "id": "5d20dcba",
   "metadata": {},
   "outputs": [],
   "source": []
  },
  {
   "cell_type": "markdown",
   "id": "0059f1dc",
   "metadata": {},
   "source": [
    "6. Explain deadlocks and race conditions.\n",
    "\n",
    "A race condition occurs when two threads use the same variable at a given time. The first thread reads the variable, and the second thread reads the same value from the variable\n",
    "\n",
    "Deadlock exists when two threads seek one lock simultaneously, that is two processes are waiting for each other directly or indirectly"
   ]
  }
 ],
 "metadata": {
  "kernelspec": {
   "display_name": "Python 3 (ipykernel)",
   "language": "python",
   "name": "python3"
  },
  "language_info": {
   "codemirror_mode": {
    "name": "ipython",
    "version": 3
   },
   "file_extension": ".py",
   "mimetype": "text/x-python",
   "name": "python",
   "nbconvert_exporter": "python",
   "pygments_lexer": "ipython3",
   "version": "3.9.13"
  }
 },
 "nbformat": 4,
 "nbformat_minor": 5
}

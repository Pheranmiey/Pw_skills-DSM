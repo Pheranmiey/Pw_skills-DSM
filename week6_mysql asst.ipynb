{
 "cells": [
  {
   "cell_type": "markdown",
   "id": "ec934376",
   "metadata": {},
   "source": [
    "Q1. What is a database? Differentiate between SQL and NoSQL databases."
   ]
  },
  {
   "cell_type": "markdown",
   "id": "fe81806e",
   "metadata": {},
   "source": [
    "A database is an organized collection of structured information, or data, typically stored electronically in a computer system. A database is usually controlled by a database management system (DBMS). Together, the data and the DBMS, along with the applications that are associated with them, are referred to as a database system, often shortened to just database."
   ]
  },
  {
   "cell_type": "markdown",
   "id": "f4e658d7",
   "metadata": {},
   "source": [
    "### Sql vs Nosql\n",
    "#### SQL databases are relational, and NoSQL databases are non-relational.\n",
    "\n",
    "#### SQL databases use structured query language (SQL) and have a predefined schema. NoSQL databases have dynamic schemas for unstructured data.\n",
    "\n",
    "#### SQL databases are vertically scalable, while NoSQL databases are horizontally scalable.\n",
    "\n",
    "#### SQL databases are table-based, while NoSQL databases are document, key-value, graph, or wide-column stores.\n",
    "\n",
    "#### SQL databases are better for multi-row transactions, while NoSQL is better for unstructured data like documents or JSON.\n",
    "\n"
   ]
  },
  {
   "cell_type": "code",
   "execution_count": null,
   "id": "e1934d00",
   "metadata": {},
   "outputs": [],
   "source": []
  },
  {
   "cell_type": "markdown",
   "id": "9d728380",
   "metadata": {},
   "source": [
    "Q2. What is DDL? Explain why CREATE, DROP, ALTER, and TRUNCATE are used with an example."
   ]
  },
  {
   "cell_type": "markdown",
   "id": "2497ac67",
   "metadata": {},
   "source": [
    "Data definition language (DDL) describes the portion of SQL that creates, alters, and deletes database objects. These database objects include schemas, tables, views, sequences, catalogs, indexes, variables, masks, permissions, and aliases. These commands are used to create or modify the tables in SQL"
   ]
  },
  {
   "cell_type": "raw",
   "id": "bd7df244",
   "metadata": {},
   "source": [
    "DROP: It is used to drop the whole table. With the help of the “DROP” command we can drop (delete) the whole structure in one go i.e. it removes the named elements of the schema. By using this command the existence of the whole table is lost.\n",
    "\n",
    "\n",
    "Syntax: \n",
    " DROP table <table_name>;\n",
    "    \n",
    "    \n",
    "TRUNCATE: It is used to delete all the rows of a relation (table) in one go. It is used to delete all the records from an existing table by reinitializing the table's structure\n",
    "\n",
    "Syntax:\n",
    "TRUNCATE table <table_name>;\n",
    "\n",
    "\n",
    "ALTER: The ALTER TABLE statement in SQL is used to add, remove, or modify columns in an existing table. The ALTER TABLE statement is also used to add and remove various constraints on existing tables.\n",
    "syntax:\n",
    "ALTER TABLE <table_name>\n",
    "DROP COLUMN column_name;\n",
    "\n",
    "ALTER TABLE <table_name>\n",
    "ADD Email varchar(255);\n",
    "\n",
    "\n",
    "CREATE: this creates a new table in the database\n",
    "\n",
    "syntax\n",
    "CREATE table <table_name>"
   ]
  },
  {
   "cell_type": "code",
   "execution_count": null,
   "id": "ac2d09fc",
   "metadata": {},
   "outputs": [],
   "source": []
  },
  {
   "cell_type": "raw",
   "id": "8f4c8e7c",
   "metadata": {},
   "source": [
    "Q3. What is DML? Explain INSERT, UPDATE, and DELETE with an example.\n",
    "\n",
    "Data Manipulation Language or DML is a subset of operations used to insert, delete, and update data in a database. A DML is often a sublanguage of a more extensive language like SQL; DML comprises some of the operators in the language.\n",
    "\n",
    "\n",
    "INSERT\tUsed to insert new data records or rows in the database table\n",
    "\n",
    "UPDATE\tUsed to set the value of a field or column for a particular record to a new value\n",
    "\n",
    "DELETE\tUsed to remove one or more rows from the database table\n",
    "\n",
    "syntaxes:\n",
    "INSERT:\n",
    "INSERT INTO table_name (column_name_1, column_name_2, column_name_3, ...)\n",
    "VALUES (value1, value2, value3, ...)\n",
    "\n",
    "UPDATE:\n",
    "UPDATE table_name\n",
    "SET column_name_1 = value1, column_name_2 = value2, ...\n",
    "WHERE condition;\n",
    "\n",
    "DELETE:\n",
    "DELETE FROM table_name WHERE condition;"
   ]
  },
  {
   "cell_type": "code",
   "execution_count": null,
   "id": "58d856fd",
   "metadata": {},
   "outputs": [],
   "source": []
  },
  {
   "cell_type": "markdown",
   "id": "f52a6bda",
   "metadata": {},
   "source": [
    "Q4. What is DQL? Explain SELECT with an example.\n",
    "\n",
    "DQL (Data Query Language) commands help to get the schema relation based on the query passed to it. It allows you to get and organise data from a database\n",
    "\n",
    "SELECT expressions    \n",
    "FROM TABLES    \n",
    "WHERE conditions;"
   ]
  },
  {
   "cell_type": "code",
   "execution_count": null,
   "id": "964865b3",
   "metadata": {},
   "outputs": [],
   "source": []
  },
  {
   "cell_type": "markdown",
   "id": "ee69f6fd",
   "metadata": {},
   "source": [
    "Q5. Explain Primary Key and Foreign Key.\n",
    "\n",
    "A primary key generally focuses on the uniqueness of the table. It assures the value in the specific column is unique. A foreign key is generally used to build a relationship between the two tables. The table allows only one primary key."
   ]
  },
  {
   "cell_type": "code",
   "execution_count": null,
   "id": "e2bcb3f7",
   "metadata": {},
   "outputs": [],
   "source": []
  },
  {
   "cell_type": "markdown",
   "id": "6d6b936f",
   "metadata": {},
   "source": [
    "Q6. Write a python code to connect MySQL to python. Explain the cursor() and execute() method."
   ]
  },
  {
   "cell_type": "raw",
   "id": "4e5774a0",
   "metadata": {},
   "source": [
    "import mysql.connector\n",
    "# import mysql.connector\n",
    "#create user 'user'@'%' identified by 'password'\n",
    "mydb = mysql.connector.connect(\n",
    "  host=\"localhost\",\n",
    "  user=\"abc\",\n",
    "  password=\"password\"\n",
    ")\n",
    "print(mydb)\n",
    "mycursor = mydb.cursor()\n",
    "mycursor.execute(\"SHOW DATABASES\")\n",
    "for x in mycursor:\n",
    "  print(x)"
   ]
  },
  {
   "cell_type": "markdown",
   "id": "0f71efa1",
   "metadata": {},
   "source": [
    "execute()\n",
    "\n",
    "This method accepts a MySQL query as a parameter and executes the given query.\n",
    "\n",
    "cursor()\n",
    "\n",
    "Allows Python code to execute SQL command in a database session. Cursors are created by the connection.cursor() method: they are bound to the connection for the entire lifetime and all the commands are executed in the context of the database session wrapped by the connection."
   ]
  },
  {
   "cell_type": "code",
   "execution_count": null,
   "id": "44765909",
   "metadata": {},
   "outputs": [],
   "source": []
  },
  {
   "cell_type": "markdown",
   "id": "ffd46667",
   "metadata": {},
   "source": [
    "Q7. Give the order of execution of SQL clauses in an SQL query.\n",
    "\n",
    "SELECT\n",
    "\n",
    "FROM\n",
    "\n",
    "JOIN\n",
    "\n",
    "WHERE\n",
    "\n",
    "GROUP BY\n",
    "\n",
    "HAVING\n",
    "\n",
    "ORDER BY\n",
    "\n",
    "LIMIT\n"
   ]
  },
  {
   "cell_type": "raw",
   "id": "53507d43",
   "metadata": {},
   "source": [
    "SELECT DISTINCT column, AGG_FUNC(column_or_expression), …\n",
    "FROM mytable\n",
    "    JOIN another_table\n",
    "      ON mytable.column = another_table.column\n",
    "    WHERE constraint_expression\n",
    "    GROUP BY column\n",
    "    HAVING constraint_expression\n",
    "    ORDER BY column ASC/DESC\n",
    "    LIMIT count OFFSET COUNT;"
   ]
  },
  {
   "cell_type": "code",
   "execution_count": null,
   "id": "7c747dc1",
   "metadata": {},
   "outputs": [],
   "source": []
  }
 ],
 "metadata": {
  "kernelspec": {
   "display_name": "Python 3 (ipykernel)",
   "language": "python",
   "name": "python3"
  },
  "language_info": {
   "codemirror_mode": {
    "name": "ipython",
    "version": 3
   },
   "file_extension": ".py",
   "mimetype": "text/x-python",
   "name": "python",
   "nbconvert_exporter": "python",
   "pygments_lexer": "ipython3",
   "version": "3.9.13"
  }
 },
 "nbformat": 4,
 "nbformat_minor": 5
}

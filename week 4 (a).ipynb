{
 "cells": [
  {
   "cell_type": "markdown",
   "id": "f1f8bf02",
   "metadata": {},
   "source": [
    "Q1. Explain Class and Object with respect to Object-Oriented Programming. Give a suitable example.\n",
    "\n",
    "A Class is like an object constructor, or a \"blueprint\" for creating objects. It is a user-defined type that describes what a certain type of object will look like.\n",
    "\n",
    "An object is a single instance of a class, which contains data and methods working on that data\n",
    "\n",
    "in the example below\n",
    "The Class is **car** and the object is **car1**"
   ]
  },
  {
   "cell_type": "code",
   "execution_count": 77,
   "id": "8c2fb5dc",
   "metadata": {},
   "outputs": [],
   "source": [
    "class car:\n",
    "    def __init__ (self, bodyparts, model):\n",
    "        self.bodyparts = bodyparts\n",
    "        self.model = model\n",
    "    \n",
    "    def properties(self): \n",
    "        print (f'the model of the car is {self.model} and it contains these parts {self.bodyparts}')\n",
    "    "
   ]
  },
  {
   "cell_type": "code",
   "execution_count": 78,
   "id": "0a2b01e6",
   "metadata": {},
   "outputs": [],
   "source": [
    "car1 = car(['window', 'tyres','doors'], 'Toyota camery' )"
   ]
  },
  {
   "cell_type": "code",
   "execution_count": 79,
   "id": "d405cf05",
   "metadata": {},
   "outputs": [
    {
     "name": "stdout",
     "output_type": "stream",
     "text": [
      "the model of the car is Toyota camery and it contains these parts ['window', 'tyres', 'doors']\n"
     ]
    }
   ],
   "source": [
    "car1.properties()"
   ]
  },
  {
   "cell_type": "code",
   "execution_count": null,
   "id": "c30e7b7d",
   "metadata": {},
   "outputs": [],
   "source": []
  },
  {
   "cell_type": "markdown",
   "id": "448bbcee",
   "metadata": {},
   "source": [
    "Q2. Name the four pillars of OOPs.\n",
    "\n",
    "Encapsulation.\n",
    "Inheritance.\n",
    "Polymorphism.\n",
    "Abstraction."
   ]
  },
  {
   "cell_type": "markdown",
   "id": "78a95d5c",
   "metadata": {},
   "source": [
    "Q3. Explain why the __init__() function is used. Give a suitable example.\n",
    "\n",
    "It is called as a constructor in OOPs. This method is called when an object is created from a class and it allows the class to initialize the attributes of the class"
   ]
  },
  {
   "cell_type": "code",
   "execution_count": 59,
   "id": "46aba919",
   "metadata": {},
   "outputs": [],
   "source": [
    "class car:\n",
    "    \n",
    "    def __init__ (self, bodyparts, model):\n",
    "        self.bodyparts = bodyparts\n",
    "        self.model = model\n",
    "    \n",
    "    def properties(self): \n",
    "        return (f'the model of the car is {self.model} and it contains these parts {self.bodyparts}')\n",
    "    "
   ]
  },
  {
   "cell_type": "code",
   "execution_count": null,
   "id": "b7a05a27",
   "metadata": {},
   "outputs": [],
   "source": []
  },
  {
   "cell_type": "markdown",
   "id": "ce1a2de7",
   "metadata": {},
   "source": [
    "Q4. Why self is used in OOPs?\n",
    "\n",
    "The self is used to represent the instance of the class. With this keyword, you can access the attributes and methods of the class in python. It binds the attributes with the given arguments"
   ]
  },
  {
   "cell_type": "code",
   "execution_count": null,
   "id": "896277bd",
   "metadata": {},
   "outputs": [],
   "source": []
  },
  {
   "cell_type": "markdown",
   "id": "60dedb99",
   "metadata": {},
   "source": [
    "Q5. What is inheritance? Give an example for each type of inheritance.\n",
    "\n",
    "Ans: In object-oriented programming (OOP), inheritance is a mechanism that allows a class to inherit properties and behaviors from another class\n",
    "\n",
    "we have \n",
    "1. single inheritance\n",
    "2. Multilabel inheritance\n",
    "3. Multiple inheritance"
   ]
  },
  {
   "cell_type": "code",
   "execution_count": 60,
   "id": "aa2892a5",
   "metadata": {},
   "outputs": [],
   "source": [
    "#single inheritance\n",
    "class parent:\n",
    "    def full_name(self):\n",
    "        return'my name is olaoluwa Saola'"
   ]
  },
  {
   "cell_type": "code",
   "execution_count": 61,
   "id": "1a91dc2a",
   "metadata": {},
   "outputs": [],
   "source": [
    "class child(parent):\n",
    "    pass"
   ]
  },
  {
   "cell_type": "code",
   "execution_count": 62,
   "id": "2498b92b",
   "metadata": {},
   "outputs": [],
   "source": [
    "child1 = child()"
   ]
  },
  {
   "cell_type": "code",
   "execution_count": 63,
   "id": "8efc4db7",
   "metadata": {},
   "outputs": [
    {
     "data": {
      "text/plain": [
       "'my name is olaoluwa Saola'"
      ]
     },
     "execution_count": 63,
     "metadata": {},
     "output_type": "execute_result"
    }
   ],
   "source": [
    "child1.full_name()"
   ]
  },
  {
   "cell_type": "code",
   "execution_count": 64,
   "id": "88c9c3d0",
   "metadata": {},
   "outputs": [],
   "source": [
    "#multilabel inheritance\n",
    "\n",
    "class first:\n",
    "    def first_name(self):\n",
    "        return 'my first name is Olaoluwa'"
   ]
  },
  {
   "cell_type": "code",
   "execution_count": 65,
   "id": "e1719de3",
   "metadata": {},
   "outputs": [],
   "source": [
    "class second(first):\n",
    "    def second_name(self):\n",
    "        return 'my second name is Feranmi'"
   ]
  },
  {
   "cell_type": "code",
   "execution_count": 66,
   "id": "8643e065",
   "metadata": {},
   "outputs": [],
   "source": [
    "class last(second):\n",
    "    def last_name(self):\n",
    "        return 'my last name is Saola'"
   ]
  },
  {
   "cell_type": "code",
   "execution_count": 67,
   "id": "02be5a55",
   "metadata": {},
   "outputs": [],
   "source": [
    "names = last()"
   ]
  },
  {
   "cell_type": "code",
   "execution_count": 68,
   "id": "78031627",
   "metadata": {},
   "outputs": [
    {
     "data": {
      "text/plain": [
       "'my first name is Olaoluwa'"
      ]
     },
     "execution_count": 68,
     "metadata": {},
     "output_type": "execute_result"
    }
   ],
   "source": [
    "names.first_name()"
   ]
  },
  {
   "cell_type": "code",
   "execution_count": 69,
   "id": "d7772476",
   "metadata": {},
   "outputs": [
    {
     "data": {
      "text/plain": [
       "'my second name is Feranmi'"
      ]
     },
     "execution_count": 69,
     "metadata": {},
     "output_type": "execute_result"
    }
   ],
   "source": [
    "names.second_name()"
   ]
  },
  {
   "cell_type": "code",
   "execution_count": 70,
   "id": "213f8eab",
   "metadata": {},
   "outputs": [
    {
     "data": {
      "text/plain": [
       "'my last name is Saola'"
      ]
     },
     "execution_count": 70,
     "metadata": {},
     "output_type": "execute_result"
    }
   ],
   "source": [
    "names.last_name()"
   ]
  },
  {
   "cell_type": "code",
   "execution_count": 71,
   "id": "54eda5d9",
   "metadata": {},
   "outputs": [],
   "source": [
    "# Multiple inheritance\n",
    "class class1 :\n",
    "    def course1(self):\n",
    "        return 'first course is python'\n",
    "    "
   ]
  },
  {
   "cell_type": "code",
   "execution_count": 72,
   "id": "7fafa483",
   "metadata": {},
   "outputs": [],
   "source": [
    "class class2:\n",
    "    def course2(self):\n",
    "        return 'second course is Big data'"
   ]
  },
  {
   "cell_type": "code",
   "execution_count": 73,
   "id": "e5bf80b8",
   "metadata": {},
   "outputs": [],
   "source": [
    "class class3(class1, class2):\n",
    "    pass"
   ]
  },
  {
   "cell_type": "code",
   "execution_count": 74,
   "id": "85b71299",
   "metadata": {},
   "outputs": [],
   "source": [
    "courses = class3()"
   ]
  },
  {
   "cell_type": "code",
   "execution_count": 75,
   "id": "e23bc737",
   "metadata": {},
   "outputs": [
    {
     "data": {
      "text/plain": [
       "'first course is python'"
      ]
     },
     "execution_count": 75,
     "metadata": {},
     "output_type": "execute_result"
    }
   ],
   "source": [
    "courses.course1()"
   ]
  },
  {
   "cell_type": "code",
   "execution_count": 76,
   "id": "93fcaeb0",
   "metadata": {},
   "outputs": [
    {
     "data": {
      "text/plain": [
       "'second course is Big data'"
      ]
     },
     "execution_count": 76,
     "metadata": {},
     "output_type": "execute_result"
    }
   ],
   "source": [
    "courses.course2()"
   ]
  }
 ],
 "metadata": {
  "kernelspec": {
   "display_name": "Python 3 (ipykernel)",
   "language": "python",
   "name": "python3"
  },
  "language_info": {
   "codemirror_mode": {
    "name": "ipython",
    "version": 3
   },
   "file_extension": ".py",
   "mimetype": "text/x-python",
   "name": "python",
   "nbconvert_exporter": "python",
   "pygments_lexer": "ipython3",
   "version": "3.9.13"
  }
 },
 "nbformat": 4,
 "nbformat_minor": 5
}
